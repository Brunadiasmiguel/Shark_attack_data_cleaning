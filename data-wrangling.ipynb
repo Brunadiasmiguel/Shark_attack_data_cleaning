{
 "cells": [
  {
   "cell_type": "code",
   "execution_count": 1,
   "metadata": {},
   "outputs": [],
   "source": [
    "# importing pandas and numpy\n",
    "\n",
    "import pandas as pd\n",
    "import numpy as np"
   ]
  },
  {
   "cell_type": "code",
   "execution_count": 2,
   "metadata": {},
   "outputs": [
    {
     "data": {
      "text/plain": [
       "(5992, 24)"
      ]
     },
     "execution_count": 2,
     "metadata": {},
     "output_type": "execute_result"
    }
   ],
   "source": [
    "#exporting file\n",
    "\n",
    "sharks = pd.read_csv('sharkoriginal.csv',engine=\"python\")\n",
    "\n",
    "#checking data size\n",
    "\n",
    "sharks.shape"
   ]
  },
  {
   "cell_type": "code",
   "execution_count": 3,
   "metadata": {},
   "outputs": [
    {
     "data": {
      "text/html": [
       "<div>\n",
       "<style scoped>\n",
       "    .dataframe tbody tr th:only-of-type {\n",
       "        vertical-align: middle;\n",
       "    }\n",
       "\n",
       "    .dataframe tbody tr th {\n",
       "        vertical-align: top;\n",
       "    }\n",
       "\n",
       "    .dataframe thead th {\n",
       "        text-align: right;\n",
       "    }\n",
       "</style>\n",
       "<table border=\"1\" class=\"dataframe\">\n",
       "  <thead>\n",
       "    <tr style=\"text-align: right;\">\n",
       "      <th></th>\n",
       "      <th>Case Number</th>\n",
       "      <th>Date</th>\n",
       "      <th>Year</th>\n",
       "      <th>Type</th>\n",
       "      <th>Country</th>\n",
       "      <th>Area</th>\n",
       "      <th>Location</th>\n",
       "      <th>Activity</th>\n",
       "      <th>Name</th>\n",
       "      <th>Sex</th>\n",
       "      <th>...</th>\n",
       "      <th>Species</th>\n",
       "      <th>Investigator or Source</th>\n",
       "      <th>pdf</th>\n",
       "      <th>href formula</th>\n",
       "      <th>href</th>\n",
       "      <th>Case Number.1</th>\n",
       "      <th>Case Number.2</th>\n",
       "      <th>original order</th>\n",
       "      <th>Unnamed: 22</th>\n",
       "      <th>Unnamed: 23</th>\n",
       "    </tr>\n",
       "  </thead>\n",
       "  <tbody>\n",
       "    <tr>\n",
       "      <th>0</th>\n",
       "      <td>2016.09.18.c</td>\n",
       "      <td>18-Sep-16</td>\n",
       "      <td>2016</td>\n",
       "      <td>Unprovoked</td>\n",
       "      <td>USA</td>\n",
       "      <td>Florida</td>\n",
       "      <td>New Smyrna Beach, Volusia County</td>\n",
       "      <td>Surfing</td>\n",
       "      <td>male</td>\n",
       "      <td>M</td>\n",
       "      <td>...</td>\n",
       "      <td>NaN</td>\n",
       "      <td>Orlando Sentinel, 9/19/2016</td>\n",
       "      <td>2016.09.18.c-NSB.pdf</td>\n",
       "      <td>http://sharkattackfile.net/spreadsheets/pdf_di...</td>\n",
       "      <td>http://sharkattackfile.net/spreadsheets/pdf_di...</td>\n",
       "      <td>2016.09.18.c</td>\n",
       "      <td>2016.09.18.c</td>\n",
       "      <td>5993</td>\n",
       "      <td>NaN</td>\n",
       "      <td>NaN</td>\n",
       "    </tr>\n",
       "    <tr>\n",
       "      <th>1</th>\n",
       "      <td>2016.09.18.b</td>\n",
       "      <td>18-Sep-16</td>\n",
       "      <td>2016</td>\n",
       "      <td>Unprovoked</td>\n",
       "      <td>USA</td>\n",
       "      <td>Florida</td>\n",
       "      <td>New Smyrna Beach, Volusia County</td>\n",
       "      <td>Surfing</td>\n",
       "      <td>Chucky Luciano</td>\n",
       "      <td>M</td>\n",
       "      <td>...</td>\n",
       "      <td>NaN</td>\n",
       "      <td>Orlando Sentinel, 9/19/2016</td>\n",
       "      <td>2016.09.18.b-Luciano.pdf</td>\n",
       "      <td>http://sharkattackfile.net/spreadsheets/pdf_di...</td>\n",
       "      <td>http://sharkattackfile.net/spreadsheets/pdf_di...</td>\n",
       "      <td>2016.09.18.b</td>\n",
       "      <td>2016.09.18.b</td>\n",
       "      <td>5992</td>\n",
       "      <td>NaN</td>\n",
       "      <td>NaN</td>\n",
       "    </tr>\n",
       "    <tr>\n",
       "      <th>2</th>\n",
       "      <td>2016.09.18.a</td>\n",
       "      <td>18-Sep-16</td>\n",
       "      <td>2016</td>\n",
       "      <td>Unprovoked</td>\n",
       "      <td>USA</td>\n",
       "      <td>Florida</td>\n",
       "      <td>New Smyrna Beach, Volusia County</td>\n",
       "      <td>Surfing</td>\n",
       "      <td>male</td>\n",
       "      <td>M</td>\n",
       "      <td>...</td>\n",
       "      <td>NaN</td>\n",
       "      <td>Orlando Sentinel, 9/19/2016</td>\n",
       "      <td>2016.09.18.a-NSB.pdf</td>\n",
       "      <td>http://sharkattackfile.net/spreadsheets/pdf_di...</td>\n",
       "      <td>http://sharkattackfile.net/spreadsheets/pdf_di...</td>\n",
       "      <td>2016.09.18.a</td>\n",
       "      <td>2016.09.18.a</td>\n",
       "      <td>5991</td>\n",
       "      <td>NaN</td>\n",
       "      <td>NaN</td>\n",
       "    </tr>\n",
       "    <tr>\n",
       "      <th>3</th>\n",
       "      <td>2016.09.17</td>\n",
       "      <td>17-Sep-16</td>\n",
       "      <td>2016</td>\n",
       "      <td>Unprovoked</td>\n",
       "      <td>AUSTRALIA</td>\n",
       "      <td>Victoria</td>\n",
       "      <td>Thirteenth Beach</td>\n",
       "      <td>Surfing</td>\n",
       "      <td>Rory Angiolella</td>\n",
       "      <td>M</td>\n",
       "      <td>...</td>\n",
       "      <td>NaN</td>\n",
       "      <td>The Age, 9/18/2016</td>\n",
       "      <td>2016.09.17-Angiolella.pdf</td>\n",
       "      <td>http://sharkattackfile.net/spreadsheets/pdf_di...</td>\n",
       "      <td>http://sharkattackfile.net/spreadsheets/pdf_di...</td>\n",
       "      <td>2016.09.17</td>\n",
       "      <td>2016.09.17</td>\n",
       "      <td>5990</td>\n",
       "      <td>NaN</td>\n",
       "      <td>NaN</td>\n",
       "    </tr>\n",
       "    <tr>\n",
       "      <th>4</th>\n",
       "      <td>2016.09.15</td>\n",
       "      <td>16-Sep-16</td>\n",
       "      <td>2016</td>\n",
       "      <td>Unprovoked</td>\n",
       "      <td>AUSTRALIA</td>\n",
       "      <td>Victoria</td>\n",
       "      <td>Bells Beach</td>\n",
       "      <td>Surfing</td>\n",
       "      <td>male</td>\n",
       "      <td>M</td>\n",
       "      <td>...</td>\n",
       "      <td>2 m shark</td>\n",
       "      <td>The Age, 9/16/2016</td>\n",
       "      <td>2016.09.16-BellsBeach.pdf</td>\n",
       "      <td>http://sharkattackfile.net/spreadsheets/pdf_di...</td>\n",
       "      <td>http://sharkattackfile.net/spreadsheets/pdf_di...</td>\n",
       "      <td>2016.09.16</td>\n",
       "      <td>2016.09.15</td>\n",
       "      <td>5989</td>\n",
       "      <td>NaN</td>\n",
       "      <td>NaN</td>\n",
       "    </tr>\n",
       "  </tbody>\n",
       "</table>\n",
       "<p>5 rows × 24 columns</p>\n",
       "</div>"
      ],
      "text/plain": [
       "    Case Number       Date  Year        Type    Country      Area  \\\n",
       "0  2016.09.18.c  18-Sep-16  2016  Unprovoked        USA   Florida   \n",
       "1  2016.09.18.b  18-Sep-16  2016  Unprovoked        USA   Florida   \n",
       "2  2016.09.18.a  18-Sep-16  2016  Unprovoked        USA   Florida   \n",
       "3    2016.09.17  17-Sep-16  2016  Unprovoked  AUSTRALIA  Victoria   \n",
       "4    2016.09.15  16-Sep-16  2016  Unprovoked  AUSTRALIA  Victoria   \n",
       "\n",
       "                           Location Activity             Name Sex   ...  \\\n",
       "0  New Smyrna Beach, Volusia County  Surfing             male    M  ...   \n",
       "1  New Smyrna Beach, Volusia County  Surfing   Chucky Luciano    M  ...   \n",
       "2  New Smyrna Beach, Volusia County  Surfing             male    M  ...   \n",
       "3                  Thirteenth Beach  Surfing  Rory Angiolella    M  ...   \n",
       "4                       Bells Beach  Surfing             male    M  ...   \n",
       "\n",
       "    Species        Investigator or Source                        pdf  \\\n",
       "0        NaN  Orlando Sentinel, 9/19/2016       2016.09.18.c-NSB.pdf   \n",
       "1        NaN  Orlando Sentinel, 9/19/2016   2016.09.18.b-Luciano.pdf   \n",
       "2        NaN  Orlando Sentinel, 9/19/2016       2016.09.18.a-NSB.pdf   \n",
       "3        NaN           The Age, 9/18/2016  2016.09.17-Angiolella.pdf   \n",
       "4  2 m shark           The Age, 9/16/2016  2016.09.16-BellsBeach.pdf   \n",
       "\n",
       "                                        href formula  \\\n",
       "0  http://sharkattackfile.net/spreadsheets/pdf_di...   \n",
       "1  http://sharkattackfile.net/spreadsheets/pdf_di...   \n",
       "2  http://sharkattackfile.net/spreadsheets/pdf_di...   \n",
       "3  http://sharkattackfile.net/spreadsheets/pdf_di...   \n",
       "4  http://sharkattackfile.net/spreadsheets/pdf_di...   \n",
       "\n",
       "                                                href Case Number.1  \\\n",
       "0  http://sharkattackfile.net/spreadsheets/pdf_di...  2016.09.18.c   \n",
       "1  http://sharkattackfile.net/spreadsheets/pdf_di...  2016.09.18.b   \n",
       "2  http://sharkattackfile.net/spreadsheets/pdf_di...  2016.09.18.a   \n",
       "3  http://sharkattackfile.net/spreadsheets/pdf_di...    2016.09.17   \n",
       "4  http://sharkattackfile.net/spreadsheets/pdf_di...    2016.09.16   \n",
       "\n",
       "  Case Number.2 original order Unnamed: 22 Unnamed: 23  \n",
       "0  2016.09.18.c           5993         NaN         NaN  \n",
       "1  2016.09.18.b           5992         NaN         NaN  \n",
       "2  2016.09.18.a           5991         NaN         NaN  \n",
       "3    2016.09.17           5990         NaN         NaN  \n",
       "4    2016.09.15           5989         NaN         NaN  \n",
       "\n",
       "[5 rows x 24 columns]"
      ]
     },
     "execution_count": 3,
     "metadata": {},
     "output_type": "execute_result"
    }
   ],
   "source": [
    "#getting overview of the data\n",
    "\n",
    "sharks.head()"
   ]
  },
  {
   "cell_type": "code",
   "execution_count": 4,
   "metadata": {},
   "outputs": [
    {
     "data": {
      "text/plain": [
       "RangeIndex(start=0, stop=5992, step=1)"
      ]
     },
     "execution_count": 4,
     "metadata": {},
     "output_type": "execute_result"
    }
   ],
   "source": [
    "#checking index information\n",
    "\n",
    "sharks.index"
   ]
  },
  {
   "cell_type": "code",
   "execution_count": 5,
   "metadata": {},
   "outputs": [
    {
     "data": {
      "text/plain": [
       "143808"
      ]
     },
     "execution_count": 5,
     "metadata": {},
     "output_type": "execute_result"
    }
   ],
   "source": [
    "#checking size of dataframe\n",
    "\n",
    "sharks.size"
   ]
  },
  {
   "cell_type": "code",
   "execution_count": 6,
   "metadata": {},
   "outputs": [
    {
     "data": {
      "text/plain": [
       "5992"
      ]
     },
     "execution_count": 6,
     "metadata": {},
     "output_type": "execute_result"
    }
   ],
   "source": [
    "#checking number of rows\n",
    "\n",
    "len(sharks)"
   ]
  },
  {
   "cell_type": "code",
   "execution_count": 7,
   "metadata": {},
   "outputs": [
    {
     "data": {
      "text/plain": [
       "Index(['Case Number', 'Date', 'Year', 'Type', 'Country', 'Area', 'Location',\n",
       "       'Activity', 'Name', 'Sex ', 'Age', 'Injury', 'Fatal (Y/N)', 'Time',\n",
       "       'Species ', 'Investigator or Source', 'pdf', 'href formula', 'href',\n",
       "       'Case Number.1', 'Case Number.2', 'original order', 'Unnamed: 22',\n",
       "       'Unnamed: 23'],\n",
       "      dtype='object')"
      ]
     },
     "execution_count": 7,
     "metadata": {},
     "output_type": "execute_result"
    }
   ],
   "source": [
    "#creating a copy\n",
    "\n",
    "csharks=sharks.copy()\n",
    "\n",
    "#checking columns\n",
    "\n",
    "csharks.columns"
   ]
  },
  {
   "cell_type": "code",
   "execution_count": 8,
   "metadata": {},
   "outputs": [
    {
     "data": {
      "text/plain": [
       "Country                     43\n",
       "Area                       402\n",
       "Location                   496\n",
       "Activity                   527\n",
       "Name                       200\n",
       "Sex                        567\n",
       "Age                       2681\n",
       "Injury                      27\n",
       "Fatal (Y/N)                 19\n",
       "Time                      3213\n",
       "Species                   2934\n",
       "Investigator or Source      15\n",
       "href formula                 1\n",
       "href                         3\n",
       "Unnamed: 22               5991\n",
       "Unnamed: 23               5990\n",
       "dtype: int64"
      ]
     },
     "execution_count": 8,
     "metadata": {},
     "output_type": "execute_result"
    }
   ],
   "source": [
    "#checking and showing only columns with nulls \n",
    "\n",
    "null_columns=csharks.isnull().sum()\n",
    "null_columns[null_columns > 0]\n",
    "\n"
   ]
  },
  {
   "cell_type": "code",
   "execution_count": 9,
   "metadata": {},
   "outputs": [],
   "source": [
    "# checking irrelevant columns\n",
    "#since there are 5992 rows, I assumed if 90% of the data has value null, it´s not worth to be analysed - so 5392\n",
    "# it was proven possible to observe no more columns would drop, but I also decided to prove it empirically \n",
    "\n",
    "drop_cols = list(null_columns[null_columns > 5392].index)\n",
    "csharks = csharks.drop(drop_cols, axis=1)"
   ]
  },
  {
   "cell_type": "code",
   "execution_count": 10,
   "metadata": {},
   "outputs": [
    {
     "name": "stdout",
     "output_type": "stream",
     "text": [
      "0        True\n",
      "1        True\n",
      "2        True\n",
      "3        True\n",
      "4       False\n",
      "        ...  \n",
      "5987     True\n",
      "5988     True\n",
      "5989     True\n",
      "5990     True\n",
      "5991     True\n",
      "Length: 5992, dtype: bool\n",
      "5992\n"
     ]
    }
   ],
   "source": [
    "# observing the data, it seems Case number columns are the same\n",
    "#confirming case number 1 column and case number 2 columns are the same through boolean map\n",
    "\n",
    "print(csharks['Case Number.1']==csharks['Case Number.2'])\n",
    "\n",
    "#counting the rows to match the boolean map length, to confirm the results\n",
    "\n",
    "print(sharks.shape[0])\n",
    "\n",
    "#once confirmed, dropping one of the columns\n",
    "\n",
    "csharks.drop(['Case Number.2'], axis=1, inplace=True)"
   ]
  },
  {
   "cell_type": "code",
   "execution_count": 11,
   "metadata": {},
   "outputs": [],
   "source": [
    "#if there are spaces in the columns, they won´t appear anymore and the columns can be filtered correctly\n",
    "\n",
    "csharks.columns = csharks.columns.str.replace(' ', '')"
   ]
  },
  {
   "cell_type": "code",
   "execution_count": 12,
   "metadata": {},
   "outputs": [],
   "source": [
    "# replacing the nulls by NA (as Non Available) for descriptive data\n",
    "\n",
    "\n",
    "csharks[['Country', 'Area', 'Location','Activity','Name','Sex','Age','Injury','Time','Species','href']] = csharks[['Country', 'Area', 'Location','Activity','Name','Sex','Age','Injury','Time','Species','href']].fillna(\"NA\")\n"
   ]
  },
  {
   "cell_type": "code",
   "execution_count": 13,
   "metadata": {},
   "outputs": [
    {
     "name": "stdout",
     "output_type": "stream",
     "text": [
      "5988\n",
      "5976\n",
      "False\n",
      "False\n"
     ]
    }
   ],
   "source": [
    "#checking data for potential new index \n",
    "\n",
    "print(csharks['originalorder'].nunique())\n",
    "\n",
    "print(csharks['CaseNumber'].nunique())\n",
    "\n",
    "# second option\n",
    "\n",
    "print(csharks['originalorder'].is_unique)\n",
    "\n",
    "print(csharks['CaseNumber'].is_unique)\n",
    "\n",
    "#although it doesn´t seem unique, I assumed it was close to the total number and assumed original order as index to test\n"
   ]
  },
  {
   "cell_type": "code",
   "execution_count": 14,
   "metadata": {},
   "outputs": [],
   "source": [
    "# changing index to original order\n",
    "\n",
    "csharks.set_index(['originalorder'], inplace=True)"
   ]
  },
  {
   "cell_type": "code",
   "execution_count": 15,
   "metadata": {},
   "outputs": [],
   "source": [
    "#not in order, sorting by the new index\n",
    "\n",
    "csharks=csharks.sort_values(by='originalorder')"
   ]
  },
  {
   "cell_type": "code",
   "execution_count": 16,
   "metadata": {},
   "outputs": [],
   "source": [
    "#after checking for irrelevant data given the analysis goals and not because of nulls or repetitions,deleting more columns\n",
    "# deleting pdf and ref since both can be treaceable through case number\n",
    "# deleting also name since we have gender and age for demographics\n",
    "#deleting also CaseNumber.1 since there was still CaseNumber\n",
    "#deleting also the exact location, since would take a long time to clean the data and the information about the area is already relevant\n",
    "#keeping date and time because the goal is to check for seasonality in the long term\n",
    "\n",
    "irrelevant_columns=['Name','pdf','hrefformula', 'href', 'CaseNumber.1','Location']\n",
    "csharks=csharks.drop(irrelevant_columns, axis=1)"
   ]
  },
  {
   "cell_type": "code",
   "execution_count": 17,
   "metadata": {},
   "outputs": [
    {
     "name": "stdout",
     "output_type": "stream",
     "text": [
      "Number of duplicate records dropped:  0\n"
     ]
    }
   ],
   "source": [
    "#confirming no duplicates left\n",
    "\n",
    "before=len(csharks)\n",
    "\n",
    "csharks.drop_duplicates(inplace=True)\n",
    "\n",
    "after = len(csharks)\n",
    "print('Number of duplicate records dropped: ', str(before - after))\n",
    "\n"
   ]
  },
  {
   "cell_type": "code",
   "execution_count": 18,
   "metadata": {},
   "outputs": [
    {
     "data": {
      "text/html": [
       "<div>\n",
       "<style scoped>\n",
       "    .dataframe tbody tr th:only-of-type {\n",
       "        vertical-align: middle;\n",
       "    }\n",
       "\n",
       "    .dataframe tbody tr th {\n",
       "        vertical-align: top;\n",
       "    }\n",
       "\n",
       "    .dataframe thead th {\n",
       "        text-align: right;\n",
       "    }\n",
       "</style>\n",
       "<table border=\"1\" class=\"dataframe\">\n",
       "  <thead>\n",
       "    <tr style=\"text-align: right;\">\n",
       "      <th></th>\n",
       "      <th>count</th>\n",
       "      <th>mean</th>\n",
       "      <th>std</th>\n",
       "      <th>min</th>\n",
       "      <th>25%</th>\n",
       "      <th>50%</th>\n",
       "      <th>75%</th>\n",
       "      <th>max</th>\n",
       "    </tr>\n",
       "  </thead>\n",
       "  <tbody>\n",
       "    <tr>\n",
       "      <th>Year</th>\n",
       "      <td>5992.0</td>\n",
       "      <td>1925.204606</td>\n",
       "      <td>286.473712</td>\n",
       "      <td>0.0</td>\n",
       "      <td>1942.0</td>\n",
       "      <td>1975.0</td>\n",
       "      <td>2003.0</td>\n",
       "      <td>2016.0</td>\n",
       "    </tr>\n",
       "  </tbody>\n",
       "</table>\n",
       "</div>"
      ],
      "text/plain": [
       "       count         mean         std  min     25%     50%     75%     max\n",
       "Year  5992.0  1925.204606  286.473712  0.0  1942.0  1975.0  2003.0  2016.0"
      ]
     },
     "execution_count": 18,
     "metadata": {},
     "output_type": "execute_result"
    }
   ],
   "source": [
    "# checking descriptive analysis for year\n",
    "\n",
    "descriptivecsharks = csharks.describe().transpose()\n",
    "\n",
    "descriptivecsharks\n",
    "\n",
    "\n"
   ]
  },
  {
   "cell_type": "code",
   "execution_count": 19,
   "metadata": {},
   "outputs": [
    {
     "name": "stdout",
     "output_type": "stream",
     "text": [
      "Year    61.0\n",
      "Name: IQR, dtype: float64\n",
      "Year    1850.5\n",
      "dtype: float64\n",
      "Year    2094.5\n",
      "dtype: float64\n"
     ]
    }
   ],
   "source": [
    "#checking years potential outliers\n",
    "\n",
    "descriptivecsharks['IQR'] = descriptivecsharks['75%'] - descriptivecsharks['25%']\n",
    "print(descriptivecsharks['IQR'])\n",
    "\n",
    "outlier25=descriptivecsharks['25%']-(1.5*descriptivecsharks['IQR'])\n",
    "\n",
    "outlier75=descriptivecsharks['75%']+(1.5*descriptivecsharks['IQR'])\n",
    "\n",
    "print(outlier25)\n",
    "print(outlier75)\n"
   ]
  },
  {
   "cell_type": "code",
   "execution_count": 20,
   "metadata": {},
   "outputs": [],
   "source": [
    "#there are outliers if outlier<Year 1850 and outlier> 2094,5\n",
    "\n",
    "csharks['Year'] = np.where(csharks.Year > 1850, csharks.Year, \"Not relevant\")"
   ]
  },
  {
   "cell_type": "code",
   "execution_count": 21,
   "metadata": {},
   "outputs": [
    {
     "data": {
      "text/plain": [
       "2015    139\n",
       "2011    128\n",
       "2014    125\n",
       "2013    122\n",
       "2008    121\n",
       "       ... \n",
       "1851      3\n",
       "1869      2\n",
       "1866      1\n",
       "1859      1\n",
       "1854      1\n",
       "Name: Year, Length: 165, dtype: int64"
      ]
     },
     "execution_count": 21,
     "metadata": {},
     "output_type": "execute_result"
    }
   ],
   "source": [
    "#eliminating the Not relevant years\n",
    "\n",
    "csharks.drop(csharks[csharks['Year'] == 'Not relevant'].index, inplace=True)\n",
    "\n",
    "#confirming they are removed \n",
    "csharks.Year.value_counts()\n",
    "\n",
    "\n"
   ]
  },
  {
   "cell_type": "code",
   "execution_count": 22,
   "metadata": {},
   "outputs": [
    {
     "data": {
      "text/plain": [
       "CaseNumber              object\n",
       "Date                    object\n",
       "Year                     int32\n",
       "Type                    object\n",
       "Country                 object\n",
       "Area                    object\n",
       "Activity                object\n",
       "Sex                     object\n",
       "Age                     object\n",
       "Injury                  object\n",
       "Fatal(Y/N)              object\n",
       "Time                    object\n",
       "Species                 object\n",
       "InvestigatororSource    object\n",
       "dtype: object"
      ]
     },
     "execution_count": 22,
     "metadata": {},
     "output_type": "execute_result"
    }
   ],
   "source": [
    "#setting Year as numeric\n",
    "\n",
    "csharks['Year']=pd.to_numeric(csharks['Year']).astype(int)\n",
    "\n",
    "#confirming it worked\n",
    "\n",
    "csharks.dtypes"
   ]
  },
  {
   "cell_type": "code",
   "execution_count": 23,
   "metadata": {},
   "outputs": [
    {
     "data": {
      "text/plain": [
       "2015    139\n",
       "2011    128\n",
       "2014    125\n",
       "2013    122\n",
       "2008    121\n",
       "2009    120\n",
       "2012    117\n",
       "2007    112\n",
       "2006    103\n",
       "2005    103\n",
       "2016    103\n",
       "2010    101\n",
       "2000     97\n",
       "2004     92\n",
       "2003     92\n",
       "2001     92\n",
       "2002     88\n",
       "Name: Year, dtype: int64"
      ]
     },
     "execution_count": 23,
     "metadata": {},
     "output_type": "execute_result"
    }
   ],
   "source": [
    "#hypothetically, i got an indication that only the last 20 years should matter\n",
    "#creating a case my head of data decided that only the last 20 years would matter\n",
    "\n",
    "csharks=csharks.loc[csharks['Year']>=2000]\n",
    "\n",
    "# checking if sucessful\n",
    "csharks['Year'].value_counts()\n"
   ]
  },
  {
   "cell_type": "code",
   "execution_count": 24,
   "metadata": {},
   "outputs": [],
   "source": [
    "#cleaning the data from columns Type\n",
    "#eliminating invalids\n",
    "\n",
    "csharks.drop(csharks[csharks['Type'] == 'Invalid'].index, inplace=True)\n",
    "\n",
    "# Boat and Boating are the same, uniting both into Boat only\n",
    "\n",
    "csharks.Type = (csharks.Type.str.replace('Boating', 'Boat'))\n",
    "\n",
    "#creating new columns category, because we want to protect the sharks and it´s not their fault boat or sea disasters!\n",
    "\n",
    "csharks['shark fault?']=np.where(csharks['Type']=='Provoked','N','Y')\n"
   ]
  },
  {
   "cell_type": "code",
   "execution_count": 25,
   "metadata": {},
   "outputs": [
    {
     "data": {
      "text/plain": [
       "USA                           0.507620\n",
       "Australia                     0.180539\n",
       "South Africa                  0.066237\n",
       "Brazil                        0.024619\n",
       "Bahamas                       0.024033\n",
       "                                ...   \n",
       "Caribbean Sea                 0.000586\n",
       "Israel                        0.000586\n",
       "India                         0.000586\n",
       "United Arab Emirates (Uae)    0.000586\n",
       "Palestinian Territories       0.000586\n",
       "Name: Country, Length: 82, dtype: float64"
      ]
     },
     "execution_count": 25,
     "metadata": {},
     "output_type": "execute_result"
    }
   ],
   "source": [
    "#organising countries\n",
    "\n",
    "csharks.Country = (csharks.Country\n",
    "                            .str.replace('?', '')\n",
    "                            .str.replace('&', 'and')\n",
    "                            .str.lower()\n",
    "                            .str.title()\n",
    "                            .str.replace('Usa','USA'))\n",
    "\n",
    "#checking the frequency of attacks by country - for next step analysis, note in the end\n",
    "\n",
    "country=csharks.Country.value_counts(normalize=True)\n",
    "\n",
    "country\n",
    "\n"
   ]
  },
  {
   "cell_type": "code",
   "execution_count": 26,
   "metadata": {},
   "outputs": [
    {
     "data": {
      "text/plain": [
       "False    1598\n",
       "True      108\n",
       "Name: Area, dtype: int64"
      ]
     },
     "execution_count": 26,
     "metadata": {},
     "output_type": "execute_result"
    }
   ],
   "source": [
    "#cleaning up area\n",
    "# grouping Hawaii related areas as Hawaii only, since saw sometimes close to Hawaii refered in the original data\n",
    "#checking the number of times words that contain Hawaii show up=True\n",
    "\n",
    "csharks['Area'].str.contains(r'Hawaii').value_counts()"
   ]
  },
  {
   "cell_type": "code",
   "execution_count": 27,
   "metadata": {},
   "outputs": [
    {
     "name": "stderr",
     "output_type": "stream",
     "text": [
      "<ipython-input-27-82c2c9e9e2ea>:3: SettingWithCopyWarning: \n",
      "A value is trying to be set on a copy of a slice from a DataFrame\n",
      "\n",
      "See the caveats in the documentation: https://pandas.pydata.org/pandas-docs/stable/user_guide/indexing.html#returning-a-view-versus-a-copy\n",
      "  csharks['Area'][csharks.Area.str.contains(r'Hawaii')] = 'Hawaii'\n"
     ]
    },
    {
     "data": {
      "text/plain": [
       "Florida                                         473\n",
       "New South Wales                                 130\n",
       "Hawaii                                          108\n",
       "California                                       90\n",
       "Western Australia                                68\n",
       "                                               ... \n",
       "Eastern Cape  Province                            1\n",
       "South Island, near Karitane north of Dunedin      1\n",
       "Maputo Province                                   1\n",
       "North Region                                      1\n",
       "Batanes Provine                                   1\n",
       "Name: Area, Length: 226, dtype: int64"
      ]
     },
     "execution_count": 27,
     "metadata": {},
     "output_type": "execute_result"
    }
   ],
   "source": [
    "#grouping Area with similar keywords, in this case found a pattern with Hawaii\n",
    "\n",
    "csharks['Area'][csharks.Area.str.contains(r'Hawaii')] = 'Hawaii'\n",
    "\n",
    "#confirming that Hawaii count equals the number of Area names containing Hawaii \n",
    "\n",
    "csharks.Area.value_counts()\n",
    "\n",
    "#note: it seems the pattern had been dropped beforehand with previous data cleaning steps"
   ]
  },
  {
   "cell_type": "code",
   "execution_count": 28,
   "metadata": {},
   "outputs": [
    {
     "name": "stderr",
     "output_type": "stream",
     "text": [
      "<ipython-input-28-4206b884c22f>:5: SettingWithCopyWarning: \n",
      "A value is trying to be set on a copy of a slice from a DataFrame\n",
      "\n",
      "See the caveats in the documentation: https://pandas.pydata.org/pandas-docs/stable/user_guide/indexing.html#returning-a-view-versus-a-copy\n",
      "  csharks['Area'][csharks.Area.str.contains(r'[0-9]')] = 'Not relevant'\n",
      "<ipython-input-28-4206b884c22f>:13: SettingWithCopyWarning: \n",
      "A value is trying to be set on a copy of a slice from a DataFrame\n",
      "\n",
      "See the caveats in the documentation: https://pandas.pydata.org/pandas-docs/stable/user_guide/indexing.html#returning-a-view-versus-a-copy\n",
      "  csharks['Area'][csharks.Area.str.contains(r'Between')] = 'Not precised'\n"
     ]
    }
   ],
   "source": [
    "# dropping locations with number/without proper string since they seemed irrelevant\n",
    "#it seems they were dropped in the previous steps but proving it empirically\n",
    "#deciding locations with numbers will be considered not relevant\n",
    "\n",
    "csharks['Area'][csharks.Area.str.contains(r'[0-9]')] = 'Not relevant'\n",
    "\n",
    "#dropping not relevant locations\n",
    "\n",
    "csharks.drop(csharks[csharks['Area'] == 'Not relevant'].index, inplace=True)\n",
    "\n",
    "#dropping also the areas starting with between since they are not precise enough\n",
    "\n",
    "csharks['Area'][csharks.Area.str.contains(r'Between')] = 'Not precised'\n",
    "\n",
    "csharks.drop(csharks[csharks['Area'] == 'Not precised'].index, inplace=True)\n",
    "\n"
   ]
  },
  {
   "cell_type": "code",
   "execution_count": 29,
   "metadata": {},
   "outputs": [],
   "source": [
    "#improving area columns visuals\n",
    "\n",
    "csharks.Area = (csharks.Area\n",
    "                            .str.replace('?', '')\n",
    "                            .str.replace('&', 'and')\n",
    "                            .str.lower()\n",
    "                            .str.title())"
   ]
  },
  {
   "cell_type": "code",
   "execution_count": 30,
   "metadata": {},
   "outputs": [],
   "source": [
    "#improving Activity data visuals\n",
    "\n",
    "csharks.Activity = (csharks.Activity\n",
    "                            .str.replace('?', '')\n",
    "                            .str.replace('&', 'and')\n",
    "                            .str.lower()\n",
    "                            .str.title())"
   ]
  },
  {
   "cell_type": "code",
   "execution_count": 31,
   "metadata": {},
   "outputs": [
    {
     "name": "stderr",
     "output_type": "stream",
     "text": [
      "<ipython-input-31-ff98538233e2>:3: SettingWithCopyWarning: \n",
      "A value is trying to be set on a copy of a slice from a DataFrame\n",
      "\n",
      "See the caveats in the documentation: https://pandas.pydata.org/pandas-docs/stable/user_guide/indexing.html#returning-a-view-versus-a-copy\n",
      "  csharks['Sex'][csharks.Sex.str.startswith('F')]='Female'\n",
      "<ipython-input-31-ff98538233e2>:4: SettingWithCopyWarning: \n",
      "A value is trying to be set on a copy of a slice from a DataFrame\n",
      "\n",
      "See the caveats in the documentation: https://pandas.pydata.org/pandas-docs/stable/user_guide/indexing.html#returning-a-view-versus-a-copy\n",
      "  csharks['Sex'][csharks.Sex.str.startswith('M')]='Male'\n",
      "<ipython-input-31-ff98538233e2>:8: SettingWithCopyWarning: \n",
      "A value is trying to be set on a copy of a slice from a DataFrame\n",
      "\n",
      "See the caveats in the documentation: https://pandas.pydata.org/pandas-docs/stable/user_guide/indexing.html#returning-a-view-versus-a-copy\n",
      "  csharks['Sex'][(csharks['Sex']=='N') |\n"
     ]
    },
    {
     "data": {
      "text/plain": [
       "Male      1354\n",
       "Female     265\n",
       "NA          82\n",
       "Name: Sex, dtype: int64"
      ]
     },
     "execution_count": 31,
     "metadata": {},
     "output_type": "execute_result"
    }
   ],
   "source": [
    "#cleaning up data sex\n",
    "\n",
    "csharks['Sex'][csharks.Sex.str.startswith('F')]='Female'\n",
    "csharks['Sex'][csharks.Sex.str.startswith('M')]='Male'\n",
    "\n",
    "# filtering non defined results to NA\n",
    "\n",
    "csharks['Sex'][(csharks['Sex']=='N') |\n",
    "               (csharks['Sex']=='lli') |\n",
    "              (csharks['Sex']== '.')]='NA'\n",
    "\n",
    "#checking improvements\n",
    "\n",
    "csharks.Sex.value_counts()"
   ]
  },
  {
   "cell_type": "code",
   "execution_count": 32,
   "metadata": {},
   "outputs": [
    {
     "data": {
      "text/plain": [
       "True     1263\n",
       "False     438\n",
       "Name: Age, dtype: int64"
      ]
     },
     "execution_count": 32,
     "metadata": {},
     "output_type": "execute_result"
    }
   ],
   "source": [
    "#cleaning Age data\n",
    "\n",
    "#thought of eliminating the age values with letters but it would reduce the data considerably - decided to not move forward with it\n",
    "\n",
    "number=csharks['Age'].str.isnumeric()\n",
    "\n",
    "number.value_counts()\n",
    "\n"
   ]
  },
  {
   "cell_type": "code",
   "execution_count": 33,
   "metadata": {},
   "outputs": [
    {
     "name": "stderr",
     "output_type": "stream",
     "text": [
      "<ipython-input-33-7f4d060852e2>:4: SettingWithCopyWarning: \n",
      "A value is trying to be set on a copy of a slice from a DataFrame\n",
      "\n",
      "See the caveats in the documentation: https://pandas.pydata.org/pandas-docs/stable/user_guide/indexing.html#returning-a-view-versus-a-copy\n",
      "  csharks['Age'][csharks.Age.str.contains(r'[A-Za-z]')] = 'NA'\n",
      "<ipython-input-33-7f4d060852e2>:5: SettingWithCopyWarning: \n",
      "A value is trying to be set on a copy of a slice from a DataFrame\n",
      "\n",
      "See the caveats in the documentation: https://pandas.pydata.org/pandas-docs/stable/user_guide/indexing.html#returning-a-view-versus-a-copy\n",
      "  csharks['Age'][csharks.Age.str.contains(r'\\&')] = 'More than one person'\n",
      "<ipython-input-33-7f4d060852e2>:6: SettingWithCopyWarning: \n",
      "A value is trying to be set on a copy of a slice from a DataFrame\n",
      "\n",
      "See the caveats in the documentation: https://pandas.pydata.org/pandas-docs/stable/user_guide/indexing.html#returning-a-view-versus-a-copy\n",
      "  csharks['Age'][csharks.Age.str.contains(r'\\!?/,')] = 'NA'\n"
     ]
    },
    {
     "data": {
      "text/plain": [
       "NA    433\n",
       "15     51\n",
       "20     47\n",
       "16     44\n",
       "19     42\n",
       "     ... \n",
       "65      1\n",
       "73      1\n",
       "        1\n",
       "84      1\n",
       "3       1\n",
       "Name: Age, Length: 78, dtype: int64"
      ]
     },
     "execution_count": 33,
     "metadata": {},
     "output_type": "execute_result"
    }
   ],
   "source": [
    "#improving Age visuals\n",
    "\n",
    "\n",
    "csharks['Age'][csharks.Age.str.contains(r'[A-Za-z]')] = 'NA'\n",
    "csharks['Age'][csharks.Age.str.contains(r'\\&')] = 'More than one person'\n",
    "csharks['Age'][csharks.Age.str.contains(r'\\!?/,')] = 'NA'\n",
    "\n",
    "#checking improvements\n",
    "\n",
    "csharks.Age.value_counts()\n",
    "\n",
    "\n",
    "\n"
   ]
  },
  {
   "cell_type": "code",
   "execution_count": 34,
   "metadata": {},
   "outputs": [],
   "source": [
    "#cleaning Injury data\n",
    "\n",
    "csharks.Injury = (csharks.Injury\n",
    "                            .str.replace('?', '')\n",
    "                            .str.replace('&', 'and')\n",
    "                            .str.lower())"
   ]
  },
  {
   "cell_type": "code",
   "execution_count": 35,
   "metadata": {},
   "outputs": [
    {
     "name": "stderr",
     "output_type": "stream",
     "text": [
      "<ipython-input-35-8eeb627f5692>:9: SettingWithCopyWarning: \n",
      "A value is trying to be set on a copy of a slice from a DataFrame\n",
      "\n",
      "See the caveats in the documentation: https://pandas.pydata.org/pandas-docs/stable/user_guide/indexing.html#returning-a-view-versus-a-copy\n",
      "  csharks['Species'][csharks.Species.str.contains(r'zambesi')] = 'Zambesi Shark'\n",
      "<ipython-input-35-8eeb627f5692>:10: SettingWithCopyWarning: \n",
      "A value is trying to be set on a copy of a slice from a DataFrame\n",
      "\n",
      "See the caveats in the documentation: https://pandas.pydata.org/pandas-docs/stable/user_guide/indexing.html#returning-a-view-versus-a-copy\n",
      "  csharks['Species'][csharks.Species.str.contains(r'white')] = 'White Shark'\n",
      "<ipython-input-35-8eeb627f5692>:11: SettingWithCopyWarning: \n",
      "A value is trying to be set on a copy of a slice from a DataFrame\n",
      "\n",
      "See the caveats in the documentation: https://pandas.pydata.org/pandas-docs/stable/user_guide/indexing.html#returning-a-view-versus-a-copy\n",
      "  csharks['Species'][csharks.Species.str.contains(r'tiger')] = 'Tiger Shark'\n",
      "<ipython-input-35-8eeb627f5692>:12: SettingWithCopyWarning: \n",
      "A value is trying to be set on a copy of a slice from a DataFrame\n",
      "\n",
      "See the caveats in the documentation: https://pandas.pydata.org/pandas-docs/stable/user_guide/indexing.html#returning-a-view-versus-a-copy\n",
      "  csharks['Species'][csharks.Species.str.contains(r'blacktip')] = 'Blacktip Shark'\n",
      "<ipython-input-35-8eeb627f5692>:13: SettingWithCopyWarning: \n",
      "A value is trying to be set on a copy of a slice from a DataFrame\n",
      "\n",
      "See the caveats in the documentation: https://pandas.pydata.org/pandas-docs/stable/user_guide/indexing.html#returning-a-view-versus-a-copy\n",
      "  csharks['Species'][csharks.Species.str.contains(r'blue')] = 'Blue Shark'\n",
      "<ipython-input-35-8eeb627f5692>:14: SettingWithCopyWarning: \n",
      "A value is trying to be set on a copy of a slice from a DataFrame\n",
      "\n",
      "See the caveats in the documentation: https://pandas.pydata.org/pandas-docs/stable/user_guide/indexing.html#returning-a-view-versus-a-copy\n",
      "  csharks['Species'][csharks.Species.str.contains(r'bronze')] = 'Bronze Whaler Shark'\n",
      "<ipython-input-35-8eeb627f5692>:15: SettingWithCopyWarning: \n",
      "A value is trying to be set on a copy of a slice from a DataFrame\n",
      "\n",
      "See the caveats in the documentation: https://pandas.pydata.org/pandas-docs/stable/user_guide/indexing.html#returning-a-view-versus-a-copy\n",
      "  csharks['Species'][csharks.Species.str.contains(r'raggedtooth')] = 'Raggedtooth Shark'\n",
      "<ipython-input-35-8eeb627f5692>:16: SettingWithCopyWarning: \n",
      "A value is trying to be set on a copy of a slice from a DataFrame\n",
      "\n",
      "See the caveats in the documentation: https://pandas.pydata.org/pandas-docs/stable/user_guide/indexing.html#returning-a-view-versus-a-copy\n",
      "  csharks['Species'][csharks.Species.str.contains(r'nurse')] = 'Nurse Shark'\n",
      "<ipython-input-35-8eeb627f5692>:17: SettingWithCopyWarning: \n",
      "A value is trying to be set on a copy of a slice from a DataFrame\n",
      "\n",
      "See the caveats in the documentation: https://pandas.pydata.org/pandas-docs/stable/user_guide/indexing.html#returning-a-view-versus-a-copy\n",
      "  csharks['Species'][csharks.Species.str.contains(r'bull')] = 'Bull Shark'\n",
      "<ipython-input-35-8eeb627f5692>:18: SettingWithCopyWarning: \n",
      "A value is trying to be set on a copy of a slice from a DataFrame\n",
      "\n",
      "See the caveats in the documentation: https://pandas.pydata.org/pandas-docs/stable/user_guide/indexing.html#returning-a-view-versus-a-copy\n",
      "  csharks['Species'][csharks.Species.str.contains(r'caribbean')] = 'Caribbean Reef Shark'\n",
      "<ipython-input-35-8eeb627f5692>:19: SettingWithCopyWarning: \n",
      "A value is trying to be set on a copy of a slice from a DataFrame\n",
      "\n",
      "See the caveats in the documentation: https://pandas.pydata.org/pandas-docs/stable/user_guide/indexing.html#returning-a-view-versus-a-copy\n",
      "  csharks['Species'][csharks.Species.str.contains(r'make')] = 'Mako Shark'\n",
      "<ipython-input-35-8eeb627f5692>:20: SettingWithCopyWarning: \n",
      "A value is trying to be set on a copy of a slice from a DataFrame\n",
      "\n",
      "See the caveats in the documentation: https://pandas.pydata.org/pandas-docs/stable/user_guide/indexing.html#returning-a-view-versus-a-copy\n",
      "  csharks['Species'][csharks.Species.str.contains(r'grey')] = 'Grey Shark'\n",
      "<ipython-input-35-8eeb627f5692>:21: SettingWithCopyWarning: \n",
      "A value is trying to be set on a copy of a slice from a DataFrame\n",
      "\n",
      "See the caveats in the documentation: https://pandas.pydata.org/pandas-docs/stable/user_guide/indexing.html#returning-a-view-versus-a-copy\n",
      "  csharks['Species'][csharks.Species.str.contains(r'hammerhead')] = 'Hammerhead Shark'\n",
      "<ipython-input-35-8eeb627f5692>:22: SettingWithCopyWarning: \n",
      "A value is trying to be set on a copy of a slice from a DataFrame\n",
      "\n",
      "See the caveats in the documentation: https://pandas.pydata.org/pandas-docs/stable/user_guide/indexing.html#returning-a-view-versus-a-copy\n",
      "  csharks['Species'][csharks.Species.str.contains(r'leopard')] = 'Leopard Shark'\n",
      "<ipython-input-35-8eeb627f5692>:23: SettingWithCopyWarning: \n",
      "A value is trying to be set on a copy of a slice from a DataFrame\n",
      "\n",
      "See the caveats in the documentation: https://pandas.pydata.org/pandas-docs/stable/user_guide/indexing.html#returning-a-view-versus-a-copy\n",
      "  csharks['Species'][csharks.Species.str.contains(r'lemon')] = 'Lemon Shark'\n"
     ]
    },
    {
     "data": {
      "text/plain": [
       "White Shark             221\n",
       "Tiger Shark             112\n",
       "Bull Shark              110\n",
       "Blacktip Shark           62\n",
       "Bronze Whaler Shark      34\n",
       "Nurse Shark              28\n",
       "Raggedtooth Shark        16\n",
       "Lemon Shark              14\n",
       "Hammerhead Shark         10\n",
       "Zambesi Shark            10\n",
       "Blue Shark               10\n",
       "Grey Shark                9\n",
       "Caribbean Reef Shark      9\n",
       "Name: Species, dtype: int64"
      ]
     },
     "execution_count": 35,
     "metadata": {},
     "output_type": "execute_result"
    }
   ],
   "source": [
    "#organising Species data\n",
    "\n",
    "csharks.Species=csharks.Species.str.lower()\n",
    "\n",
    "#assuming I was told to focus my analysis on the most well known shark species with attacks registered\n",
    "\n",
    "# checking for categories\n",
    "\n",
    "csharks['Species'][csharks.Species.str.contains(r'zambesi')] = 'Zambesi Shark'\n",
    "csharks['Species'][csharks.Species.str.contains(r'white')] = 'White Shark'\n",
    "csharks['Species'][csharks.Species.str.contains(r'tiger')] = 'Tiger Shark'\n",
    "csharks['Species'][csharks.Species.str.contains(r'blacktip')] = 'Blacktip Shark'\n",
    "csharks['Species'][csharks.Species.str.contains(r'blue')] = 'Blue Shark'\n",
    "csharks['Species'][csharks.Species.str.contains(r'bronze')] = 'Bronze Whaler Shark'\n",
    "csharks['Species'][csharks.Species.str.contains(r'raggedtooth')] = 'Raggedtooth Shark'\n",
    "csharks['Species'][csharks.Species.str.contains(r'nurse')] = 'Nurse Shark'\n",
    "csharks['Species'][csharks.Species.str.contains(r'bull')] = 'Bull Shark'\n",
    "csharks['Species'][csharks.Species.str.contains(r'caribbean')] = 'Caribbean Reef Shark'\n",
    "csharks['Species'][csharks.Species.str.contains(r'make')] = 'Mako Shark'\n",
    "csharks['Species'][csharks.Species.str.contains(r'grey')] = 'Grey Shark'\n",
    "csharks['Species'][csharks.Species.str.contains(r'hammerhead')] = 'Hammerhead Shark'\n",
    "csharks['Species'][csharks.Species.str.contains(r'leopard')] = 'Leopard Shark'\n",
    "csharks['Species'][csharks.Species.str.contains(r'lemon')] = 'Lemon Shark'\n",
    "\n",
    "#deleting rows with other categories\n",
    "\n",
    "csharks=csharks.loc[(csharks['Species'] == 'Zambesi Shark') |\n",
    "                     (csharks['Species'] == 'White Shark') |\n",
    "                    (csharks['Species'] == 'Tiger Shark') |\n",
    "                     (csharks['Species'] == 'Blacktip Shark') |\n",
    "                    (csharks['Species'] == 'Blue Shark') |\n",
    "                     (csharks['Species'] == 'Bronze Whaler Shark') |\n",
    "                    (csharks['Species'] == 'Raggedtooth Shark') |\n",
    "                     (csharks['Species'] == 'Nurse Shark') |\n",
    "                    (csharks['Species'] == 'Bull Shark') |\n",
    "                     (csharks['Species'] == 'Caribbean Reef Shark') |\n",
    "                   (csharks['Species'] == 'Mako Shark') |\n",
    "                     (csharks['Species'] == 'Grey Shark') |\n",
    "                   (csharks['Species'] == 'Hammerhead Shark') |\n",
    "                     (csharks['Species'] == 'Leopard Shark') |\n",
    "                    (csharks['Species'] == 'Lemon Shark')]\n",
    "\n",
    "\n",
    "csharks.Species.value_counts()"
   ]
  },
  {
   "cell_type": "code",
   "execution_count": 36,
   "metadata": {},
   "outputs": [
    {
     "data": {
      "text/html": [
       "<div>\n",
       "<style scoped>\n",
       "    .dataframe tbody tr th:only-of-type {\n",
       "        vertical-align: middle;\n",
       "    }\n",
       "\n",
       "    .dataframe tbody tr th {\n",
       "        vertical-align: top;\n",
       "    }\n",
       "\n",
       "    .dataframe thead th {\n",
       "        text-align: right;\n",
       "    }\n",
       "</style>\n",
       "<table border=\"1\" class=\"dataframe\">\n",
       "  <thead>\n",
       "    <tr style=\"text-align: right;\">\n",
       "      <th></th>\n",
       "      <th>Area</th>\n",
       "      <th>Sex</th>\n",
       "      <th>Age</th>\n",
       "      <th>Fatal(Y/N)</th>\n",
       "      <th>variable</th>\n",
       "      <th>value</th>\n",
       "    </tr>\n",
       "  </thead>\n",
       "  <tbody>\n",
       "    <tr>\n",
       "      <th>0</th>\n",
       "      <td>Florida</td>\n",
       "      <td>Male</td>\n",
       "      <td>NA</td>\n",
       "      <td>N</td>\n",
       "      <td>Injury</td>\n",
       "      <td>no injury to occupant; shark bit propeller</td>\n",
       "    </tr>\n",
       "    <tr>\n",
       "      <th>1</th>\n",
       "      <td>Worcestershire</td>\n",
       "      <td>Male</td>\n",
       "      <td>NA</td>\n",
       "      <td>N</td>\n",
       "      <td>Injury</td>\n",
       "      <td>fingers bitten provoked incident</td>\n",
       "    </tr>\n",
       "    <tr>\n",
       "      <th>2</th>\n",
       "      <td>Western Cape Province</td>\n",
       "      <td>Male</td>\n",
       "      <td>NA</td>\n",
       "      <td>N</td>\n",
       "      <td>Injury</td>\n",
       "      <td>foot bitten</td>\n",
       "    </tr>\n",
       "    <tr>\n",
       "      <th>3</th>\n",
       "      <td>New South Wales</td>\n",
       "      <td>Male</td>\n",
       "      <td>NA</td>\n",
       "      <td>N</td>\n",
       "      <td>Injury</td>\n",
       "      <td>no injury</td>\n",
       "    </tr>\n",
       "    <tr>\n",
       "      <th>4</th>\n",
       "      <td>North Province</td>\n",
       "      <td>Male</td>\n",
       "      <td>35</td>\n",
       "      <td>Y</td>\n",
       "      <td>Injury</td>\n",
       "      <td>fatal</td>\n",
       "    </tr>\n",
       "    <tr>\n",
       "      <th>...</th>\n",
       "      <td>...</td>\n",
       "      <td>...</td>\n",
       "      <td>...</td>\n",
       "      <td>...</td>\n",
       "      <td>...</td>\n",
       "      <td>...</td>\n",
       "    </tr>\n",
       "    <tr>\n",
       "      <th>640</th>\n",
       "      <td>Hawaii</td>\n",
       "      <td>Male</td>\n",
       "      <td>21</td>\n",
       "      <td>N</td>\n",
       "      <td>Injury</td>\n",
       "      <td>no inury, shark and board collided</td>\n",
       "    </tr>\n",
       "    <tr>\n",
       "      <th>641</th>\n",
       "      <td>Na</td>\n",
       "      <td>Male</td>\n",
       "      <td>20</td>\n",
       "      <td>N</td>\n",
       "      <td>Injury</td>\n",
       "      <td>right arm severed, ankle severely bitten</td>\n",
       "    </tr>\n",
       "    <tr>\n",
       "      <th>642</th>\n",
       "      <td>Florida</td>\n",
       "      <td>Male</td>\n",
       "      <td>25</td>\n",
       "      <td>N</td>\n",
       "      <td>Injury</td>\n",
       "      <td>lacerations to right foot</td>\n",
       "    </tr>\n",
       "    <tr>\n",
       "      <th>643</th>\n",
       "      <td>California</td>\n",
       "      <td>Male</td>\n",
       "      <td>22</td>\n",
       "      <td>N</td>\n",
       "      <td>Injury</td>\n",
       "      <td>two toes broken and lacerated</td>\n",
       "    </tr>\n",
       "    <tr>\n",
       "      <th>644</th>\n",
       "      <td>Hawaii</td>\n",
       "      <td>Female</td>\n",
       "      <td>51</td>\n",
       "      <td>N</td>\n",
       "      <td>Injury</td>\n",
       "      <td>severe lacerations to shoulder and forearm</td>\n",
       "    </tr>\n",
       "  </tbody>\n",
       "</table>\n",
       "<p>645 rows × 6 columns</p>\n",
       "</div>"
      ],
      "text/plain": [
       "                      Area     Sex Age Fatal(Y/N) variable  \\\n",
       "0                  Florida    Male  NA          N   Injury   \n",
       "1           Worcestershire    Male  NA          N   Injury   \n",
       "2    Western Cape Province    Male  NA          N   Injury   \n",
       "3          New South Wales    Male  NA          N   Injury   \n",
       "4           North Province    Male  35          Y   Injury   \n",
       "..                     ...     ...  ..        ...      ...   \n",
       "640                 Hawaii    Male  21          N   Injury   \n",
       "641                     Na    Male  20          N   Injury   \n",
       "642                Florida    Male  25          N   Injury   \n",
       "643             California    Male  22          N   Injury   \n",
       "644                 Hawaii  Female  51          N   Injury   \n",
       "\n",
       "                                          value  \n",
       "0    no injury to occupant; shark bit propeller  \n",
       "1              fingers bitten provoked incident  \n",
       "2                                   foot bitten  \n",
       "3                                     no injury  \n",
       "4                                         fatal  \n",
       "..                                          ...  \n",
       "640          no inury, shark and board collided  \n",
       "641   right arm severed, ankle severely bitten   \n",
       "642                   lacerations to right foot  \n",
       "643               two toes broken and lacerated  \n",
       "644  severe lacerations to shoulder and forearm  \n",
       "\n",
       "[645 rows x 6 columns]"
      ]
     },
     "execution_count": 36,
     "metadata": {},
     "output_type": "execute_result"
    }
   ],
   "source": [
    "#demographic/geographic information\n",
    "# comparing some demographics and fatal or non fatal injuries\n",
    "\n",
    "melted = pd.melt(csharks, id_vars=['Area','Sex','Age','Fatal(Y/N)'], \n",
    "                 value_vars=['Injury'])\n",
    "melted\n"
   ]
  },
  {
   "cell_type": "code",
   "execution_count": 37,
   "metadata": {},
   "outputs": [],
   "source": [
    "#spliting last columns and droping second one, connected to date again, irrelevant\n",
    "\n",
    "csharks.InvestigatororSource=csharks.InvestigatororSource.str.split(pat=',',n=1,expand=True)\n"
   ]
  },
  {
   "cell_type": "code",
   "execution_count": 38,
   "metadata": {},
   "outputs": [],
   "source": [
    "#reordering columns\n",
    "\n",
    "order_list=['CaseNumber','Species','Injury', 'Fatal(Y/N)','shark fault?','Sex', 'Age','Activity','Country', 'Area', 'Year','Date','Time','Type','InvestigatororSource']\n",
    "\n",
    "csharks=csharks[order_list]\n"
   ]
  },
  {
   "cell_type": "code",
   "execution_count": 39,
   "metadata": {},
   "outputs": [],
   "source": [
    "#renaming columns\n",
    "\n",
    "csharks=csharks.rename(columns={'CaseNumber':'Case Number','Injury':'Type of Injury','Fatal(Y/N)':'Fatal:Yes or No','InvestigatororSource':'Investigation','shark fault?':'Unprovoked attack'})\n"
   ]
  },
  {
   "cell_type": "code",
   "execution_count": 40,
   "metadata": {
    "scrolled": true
   },
   "outputs": [
    {
     "data": {
      "text/html": [
       "<div>\n",
       "<style scoped>\n",
       "    .dataframe tbody tr th:only-of-type {\n",
       "        vertical-align: middle;\n",
       "    }\n",
       "\n",
       "    .dataframe tbody tr th {\n",
       "        vertical-align: top;\n",
       "    }\n",
       "\n",
       "    .dataframe thead th {\n",
       "        text-align: right;\n",
       "    }\n",
       "</style>\n",
       "<table border=\"1\" class=\"dataframe\">\n",
       "  <thead>\n",
       "    <tr style=\"text-align: right;\">\n",
       "      <th></th>\n",
       "      <th>Case Number</th>\n",
       "      <th>Species</th>\n",
       "      <th>Type of Injury</th>\n",
       "      <th>Fatal:Yes or No</th>\n",
       "      <th>Unprovoked attack</th>\n",
       "      <th>Sex</th>\n",
       "      <th>Age</th>\n",
       "      <th>Activity</th>\n",
       "      <th>Country</th>\n",
       "      <th>Area</th>\n",
       "      <th>Year</th>\n",
       "      <th>Date</th>\n",
       "      <th>Time</th>\n",
       "      <th>Type</th>\n",
       "      <th>Investigation</th>\n",
       "    </tr>\n",
       "  </thead>\n",
       "  <tbody>\n",
       "    <tr>\n",
       "      <th>0</th>\n",
       "      <td>2000.00.00</td>\n",
       "      <td>Hammerhead Shark</td>\n",
       "      <td>no injury to occupant; shark bit propeller</td>\n",
       "      <td>N</td>\n",
       "      <td>Y</td>\n",
       "      <td>Male</td>\n",
       "      <td>NA</td>\n",
       "      <td>Fishing For Tarpon</td>\n",
       "      <td>USA</td>\n",
       "      <td>Florida</td>\n",
       "      <td>2000</td>\n",
       "      <td>2000</td>\n",
       "      <td>NA</td>\n",
       "      <td>Boat</td>\n",
       "      <td>B. Stout</td>\n",
       "    </tr>\n",
       "    <tr>\n",
       "      <th>1</th>\n",
       "      <td>2000.02.14</td>\n",
       "      <td>Blacktip Shark</td>\n",
       "      <td>fingers bitten provoked incident</td>\n",
       "      <td>N</td>\n",
       "      <td>N</td>\n",
       "      <td>Male</td>\n",
       "      <td>NA</td>\n",
       "      <td>Feeding Prawns To Captive Sharks</td>\n",
       "      <td>England</td>\n",
       "      <td>Worcestershire</td>\n",
       "      <td>2000</td>\n",
       "      <td>14-Feb-00</td>\n",
       "      <td>NA</td>\n",
       "      <td>Provoked</td>\n",
       "      <td>The Sun (London)</td>\n",
       "    </tr>\n",
       "    <tr>\n",
       "      <th>2</th>\n",
       "      <td>2000.02.19</td>\n",
       "      <td>White Shark</td>\n",
       "      <td>foot bitten</td>\n",
       "      <td>N</td>\n",
       "      <td>Y</td>\n",
       "      <td>Male</td>\n",
       "      <td>NA</td>\n",
       "      <td>Body Surfing</td>\n",
       "      <td>South Africa</td>\n",
       "      <td>Western Cape Province</td>\n",
       "      <td>2000</td>\n",
       "      <td>19-Feb-00</td>\n",
       "      <td>14h00</td>\n",
       "      <td>Unprovoked</td>\n",
       "      <td>C. Creswell</td>\n",
       "    </tr>\n",
       "    <tr>\n",
       "      <th>3</th>\n",
       "      <td>2000.03.14</td>\n",
       "      <td>Tiger Shark</td>\n",
       "      <td>no injury</td>\n",
       "      <td>N</td>\n",
       "      <td>Y</td>\n",
       "      <td>Male</td>\n",
       "      <td>NA</td>\n",
       "      <td>Surfing</td>\n",
       "      <td>Australia</td>\n",
       "      <td>New South Wales</td>\n",
       "      <td>2000</td>\n",
       "      <td>14-Mar-00</td>\n",
       "      <td>19h30</td>\n",
       "      <td>Unprovoked</td>\n",
       "      <td>Sydney Morning Herald</td>\n",
       "    </tr>\n",
       "    <tr>\n",
       "      <th>4</th>\n",
       "      <td>2000.03.15</td>\n",
       "      <td>Tiger Shark</td>\n",
       "      <td>fatal</td>\n",
       "      <td>Y</td>\n",
       "      <td>Y</td>\n",
       "      <td>Male</td>\n",
       "      <td>35</td>\n",
       "      <td>Spearfishing</td>\n",
       "      <td>New Caledonia</td>\n",
       "      <td>North Province</td>\n",
       "      <td>2000</td>\n",
       "      <td>15-Mar-00</td>\n",
       "      <td>Morning</td>\n",
       "      <td>Unprovoked</td>\n",
       "      <td>Les Nouvelles Caledoniennes</td>\n",
       "    </tr>\n",
       "    <tr>\n",
       "      <th>...</th>\n",
       "      <td>...</td>\n",
       "      <td>...</td>\n",
       "      <td>...</td>\n",
       "      <td>...</td>\n",
       "      <td>...</td>\n",
       "      <td>...</td>\n",
       "      <td>...</td>\n",
       "      <td>...</td>\n",
       "      <td>...</td>\n",
       "      <td>...</td>\n",
       "      <td>...</td>\n",
       "      <td>...</td>\n",
       "      <td>...</td>\n",
       "      <td>...</td>\n",
       "      <td>...</td>\n",
       "    </tr>\n",
       "    <tr>\n",
       "      <th>640</th>\n",
       "      <td>2016.08.06</td>\n",
       "      <td>Tiger Shark</td>\n",
       "      <td>no inury, shark and board collided</td>\n",
       "      <td>N</td>\n",
       "      <td>Y</td>\n",
       "      <td>Male</td>\n",
       "      <td>21</td>\n",
       "      <td>Sup Foil Boarding</td>\n",
       "      <td>USA</td>\n",
       "      <td>Hawaii</td>\n",
       "      <td>2016</td>\n",
       "      <td>06-Aug-16</td>\n",
       "      <td>NA</td>\n",
       "      <td>Unprovoked</td>\n",
       "      <td>SUP</td>\n",
       "    </tr>\n",
       "    <tr>\n",
       "      <th>641</th>\n",
       "      <td>2016.08.27</td>\n",
       "      <td>Bull Shark</td>\n",
       "      <td>right arm severed, ankle severely bitten</td>\n",
       "      <td>N</td>\n",
       "      <td>Y</td>\n",
       "      <td>Male</td>\n",
       "      <td>20</td>\n",
       "      <td>Surfing</td>\n",
       "      <td>Reunion</td>\n",
       "      <td>Na</td>\n",
       "      <td>2016</td>\n",
       "      <td>27-Aug-16</td>\n",
       "      <td>17h00</td>\n",
       "      <td>Unprovoked</td>\n",
       "      <td>LaDepeche</td>\n",
       "    </tr>\n",
       "    <tr>\n",
       "      <th>642</th>\n",
       "      <td>2016.08.29.b</td>\n",
       "      <td>Bull Shark</td>\n",
       "      <td>lacerations to right foot</td>\n",
       "      <td>N</td>\n",
       "      <td>Y</td>\n",
       "      <td>Male</td>\n",
       "      <td>25</td>\n",
       "      <td>Surfing</td>\n",
       "      <td>USA</td>\n",
       "      <td>Florida</td>\n",
       "      <td>2016</td>\n",
       "      <td>29-Aug-16</td>\n",
       "      <td>15h00</td>\n",
       "      <td>Unprovoked</td>\n",
       "      <td>News Channel 8</td>\n",
       "    </tr>\n",
       "    <tr>\n",
       "      <th>643</th>\n",
       "      <td>2016.09.01</td>\n",
       "      <td>White Shark</td>\n",
       "      <td>two toes broken and lacerated</td>\n",
       "      <td>N</td>\n",
       "      <td>Y</td>\n",
       "      <td>Male</td>\n",
       "      <td>22</td>\n",
       "      <td>Spearfishing</td>\n",
       "      <td>USA</td>\n",
       "      <td>California</td>\n",
       "      <td>2016</td>\n",
       "      <td>01-Sep-16</td>\n",
       "      <td>NA</td>\n",
       "      <td>Unprovoked</td>\n",
       "      <td>R. Collier</td>\n",
       "    </tr>\n",
       "    <tr>\n",
       "      <th>644</th>\n",
       "      <td>2016.09.07</td>\n",
       "      <td>Tiger Shark</td>\n",
       "      <td>severe lacerations to shoulder and forearm</td>\n",
       "      <td>N</td>\n",
       "      <td>Y</td>\n",
       "      <td>Female</td>\n",
       "      <td>51</td>\n",
       "      <td>Swimming</td>\n",
       "      <td>USA</td>\n",
       "      <td>Hawaii</td>\n",
       "      <td>2016</td>\n",
       "      <td>07-Sep-16</td>\n",
       "      <td>14h30</td>\n",
       "      <td>Unprovoked</td>\n",
       "      <td>Hawaii News Now</td>\n",
       "    </tr>\n",
       "  </tbody>\n",
       "</table>\n",
       "<p>645 rows × 15 columns</p>\n",
       "</div>"
      ],
      "text/plain": [
       "      Case Number           Species  \\\n",
       "0      2000.00.00  Hammerhead Shark   \n",
       "1      2000.02.14    Blacktip Shark   \n",
       "2      2000.02.19       White Shark   \n",
       "3      2000.03.14       Tiger Shark   \n",
       "4      2000.03.15       Tiger Shark   \n",
       "..            ...               ...   \n",
       "640    2016.08.06       Tiger Shark   \n",
       "641    2016.08.27        Bull Shark   \n",
       "642  2016.08.29.b        Bull Shark   \n",
       "643    2016.09.01       White Shark   \n",
       "644    2016.09.07       Tiger Shark   \n",
       "\n",
       "                                 Type of Injury Fatal:Yes or No  \\\n",
       "0    no injury to occupant; shark bit propeller               N   \n",
       "1              fingers bitten provoked incident               N   \n",
       "2                                   foot bitten               N   \n",
       "3                                     no injury               N   \n",
       "4                                         fatal               Y   \n",
       "..                                          ...             ...   \n",
       "640          no inury, shark and board collided               N   \n",
       "641   right arm severed, ankle severely bitten                N   \n",
       "642                   lacerations to right foot               N   \n",
       "643               two toes broken and lacerated               N   \n",
       "644  severe lacerations to shoulder and forearm               N   \n",
       "\n",
       "    Unprovoked attack     Sex Age                          Activity  \\\n",
       "0                   Y    Male  NA                Fishing For Tarpon   \n",
       "1                   N    Male  NA  Feeding Prawns To Captive Sharks   \n",
       "2                   Y    Male  NA                      Body Surfing   \n",
       "3                   Y    Male  NA                           Surfing   \n",
       "4                   Y    Male  35                      Spearfishing   \n",
       "..                ...     ...  ..                               ...   \n",
       "640                 Y    Male  21                 Sup Foil Boarding   \n",
       "641                 Y    Male  20                           Surfing   \n",
       "642                 Y    Male  25                           Surfing   \n",
       "643                 Y    Male  22                      Spearfishing   \n",
       "644                 Y  Female  51                          Swimming   \n",
       "\n",
       "           Country                   Area  Year       Date     Time  \\\n",
       "0              USA                Florida  2000       2000       NA   \n",
       "1          England         Worcestershire  2000  14-Feb-00       NA   \n",
       "2     South Africa  Western Cape Province  2000  19-Feb-00    14h00   \n",
       "3        Australia        New South Wales  2000  14-Mar-00    19h30   \n",
       "4    New Caledonia         North Province  2000  15-Mar-00  Morning   \n",
       "..             ...                    ...   ...        ...      ...   \n",
       "640            USA                 Hawaii  2016  06-Aug-16       NA   \n",
       "641        Reunion                     Na  2016  27-Aug-16    17h00   \n",
       "642            USA                Florida  2016  29-Aug-16    15h00   \n",
       "643            USA             California  2016  01-Sep-16       NA   \n",
       "644            USA                 Hawaii  2016  07-Sep-16    14h30   \n",
       "\n",
       "           Type                Investigation  \n",
       "0          Boat                     B. Stout  \n",
       "1      Provoked             The Sun (London)  \n",
       "2    Unprovoked                  C. Creswell  \n",
       "3    Unprovoked        Sydney Morning Herald  \n",
       "4    Unprovoked  Les Nouvelles Caledoniennes  \n",
       "..          ...                          ...  \n",
       "640  Unprovoked                          SUP  \n",
       "641  Unprovoked                    LaDepeche  \n",
       "642  Unprovoked               News Channel 8  \n",
       "643  Unprovoked                   R. Collier  \n",
       "644  Unprovoked              Hawaii News Now  \n",
       "\n",
       "[645 rows x 15 columns]"
      ]
     },
     "execution_count": 40,
     "metadata": {},
     "output_type": "execute_result"
    }
   ],
   "source": [
    "#deciding the index chosen was not the best and reset to zero\n",
    "\n",
    "csharks.reset_index(drop=True, inplace=True)\n",
    "\n",
    "csharks"
   ]
  },
  {
   "cell_type": "code",
   "execution_count": 42,
   "metadata": {},
   "outputs": [],
   "source": [
    "csharks = csharks.to_csv('csharks.csv', index=False)"
   ]
  },
  {
   "cell_type": "code",
   "execution_count": null,
   "metadata": {},
   "outputs": [],
   "source": [
    "#DISCUSSION\n",
    "\n",
    "\"\"\"\"cleaning up age issues\n",
    "changing age like this didn´t work. the idea was to create age clusters afterwards\n",
    "csharks.drop(csharks[csharks['Age'] == 'NA'].index, inplace=True)\n",
    "csharks['Age']=pd.to_numeric(csharks['Age'], errors='ignore')\n",
    "csharks['Age']=csharks['Age'].astype(int, errors='ignore')\"\"\"\n",
    "\n",
    "\"\"\" cleaning up Date issues \n",
    "The idea was to categorize afterwards and check for seasonality/warm waters correlation\n",
    "\n",
    "csharks['Date']=pd.to_datetime(csharks['Date'],errors='ignore')\n",
    "csharks['Month'] = pd.DatetimeIndex(csharks['Date']).month\"\"\"\n",
    "\n",
    "\"\"\"how to categorise countries by frequency of attacks as high, medium and low danger\"\"\""
   ]
  }
 ],
 "metadata": {
  "kernelspec": {
   "display_name": "Python 3",
   "language": "python",
   "name": "python3"
  },
  "language_info": {
   "codemirror_mode": {
    "name": "ipython",
    "version": 3
   },
   "file_extension": ".py",
   "mimetype": "text/x-python",
   "name": "python",
   "nbconvert_exporter": "python",
   "pygments_lexer": "ipython3",
   "version": "3.8.5"
  }
 },
 "nbformat": 4,
 "nbformat_minor": 4
}
